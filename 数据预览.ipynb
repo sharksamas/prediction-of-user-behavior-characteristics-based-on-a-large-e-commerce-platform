{
 "cells": [
  {
   "cell_type": "markdown",
   "id": "75514ff0",
   "metadata": {},
   "source": [
    "### 查看数据"
   ]
  },
  {
   "cell_type": "code",
   "execution_count": 10,
   "id": "a77b5ba8",
   "metadata": {},
   "outputs": [
    {
     "data": {
      "text/html": [
       "<div>\n",
       "<style scoped>\n",
       "    .dataframe tbody tr th:only-of-type {\n",
       "        vertical-align: middle;\n",
       "    }\n",
       "\n",
       "    .dataframe tbody tr th {\n",
       "        vertical-align: top;\n",
       "    }\n",
       "\n",
       "    .dataframe thead th {\n",
       "        text-align: right;\n",
       "    }\n",
       "</style>\n",
       "<table border=\"1\" class=\"dataframe\">\n",
       "  <thead>\n",
       "    <tr style=\"text-align: right;\">\n",
       "      <th></th>\n",
       "      <th>user_id</th>\n",
       "      <th>age</th>\n",
       "      <th>sex</th>\n",
       "      <th>user_lv_cd</th>\n",
       "      <th>user_reg_tm</th>\n",
       "    </tr>\n",
       "  </thead>\n",
       "  <tbody>\n",
       "    <tr>\n",
       "      <th>0</th>\n",
       "      <td>200001</td>\n",
       "      <td>6.0</td>\n",
       "      <td>2.0</td>\n",
       "      <td>5</td>\n",
       "      <td>2016-01-26</td>\n",
       "    </tr>\n",
       "    <tr>\n",
       "      <th>1</th>\n",
       "      <td>200002</td>\n",
       "      <td>-1.0</td>\n",
       "      <td>0.0</td>\n",
       "      <td>1</td>\n",
       "      <td>2016-01-26</td>\n",
       "    </tr>\n",
       "    <tr>\n",
       "      <th>2</th>\n",
       "      <td>200003</td>\n",
       "      <td>4.0</td>\n",
       "      <td>1.0</td>\n",
       "      <td>4</td>\n",
       "      <td>2016-01-26</td>\n",
       "    </tr>\n",
       "    <tr>\n",
       "      <th>3</th>\n",
       "      <td>200004</td>\n",
       "      <td>-1.0</td>\n",
       "      <td>2.0</td>\n",
       "      <td>1</td>\n",
       "      <td>2016-01-26</td>\n",
       "    </tr>\n",
       "    <tr>\n",
       "      <th>4</th>\n",
       "      <td>200005</td>\n",
       "      <td>2.0</td>\n",
       "      <td>0.0</td>\n",
       "      <td>4</td>\n",
       "      <td>2016-01-26</td>\n",
       "    </tr>\n",
       "  </tbody>\n",
       "</table>\n",
       "</div>"
      ],
      "text/plain": [
       "   user_id  age  sex  user_lv_cd user_reg_tm\n",
       "0   200001  6.0  2.0           5  2016-01-26\n",
       "1   200002 -1.0  0.0           1  2016-01-26\n",
       "2   200003  4.0  1.0           4  2016-01-26\n",
       "3   200004 -1.0  2.0           1  2016-01-26\n",
       "4   200005  2.0  0.0           4  2016-01-26"
      ]
     },
     "metadata": {},
     "output_type": "display_data"
    },
    {
     "data": {
      "text/html": [
       "<div>\n",
       "<style scoped>\n",
       "    .dataframe tbody tr th:only-of-type {\n",
       "        vertical-align: middle;\n",
       "    }\n",
       "\n",
       "    .dataframe tbody tr th {\n",
       "        vertical-align: top;\n",
       "    }\n",
       "\n",
       "    .dataframe thead th {\n",
       "        text-align: right;\n",
       "    }\n",
       "</style>\n",
       "<table border=\"1\" class=\"dataframe\">\n",
       "  <thead>\n",
       "    <tr style=\"text-align: right;\">\n",
       "      <th></th>\n",
       "      <th>user_id</th>\n",
       "      <th>sku_id</th>\n",
       "      <th>time</th>\n",
       "      <th>model_id</th>\n",
       "      <th>type</th>\n",
       "      <th>cate</th>\n",
       "      <th>brand</th>\n",
       "    </tr>\n",
       "  </thead>\n",
       "  <tbody>\n",
       "    <tr>\n",
       "      <th>0</th>\n",
       "      <td>280567</td>\n",
       "      <td>167208</td>\n",
       "      <td>2016-02-29 23:59:01</td>\n",
       "      <td>0.0</td>\n",
       "      <td>6</td>\n",
       "      <td>4</td>\n",
       "      <td>519</td>\n",
       "    </tr>\n",
       "    <tr>\n",
       "      <th>1</th>\n",
       "      <td>270248</td>\n",
       "      <td>35533</td>\n",
       "      <td>2016-02-29 23:59:02</td>\n",
       "      <td>111.0</td>\n",
       "      <td>6</td>\n",
       "      <td>4</td>\n",
       "      <td>306</td>\n",
       "    </tr>\n",
       "    <tr>\n",
       "      <th>2</th>\n",
       "      <td>203360</td>\n",
       "      <td>78694</td>\n",
       "      <td>2016-02-29 23:59:02</td>\n",
       "      <td>NaN</td>\n",
       "      <td>1</td>\n",
       "      <td>8</td>\n",
       "      <td>244</td>\n",
       "    </tr>\n",
       "    <tr>\n",
       "      <th>3</th>\n",
       "      <td>252369</td>\n",
       "      <td>90402</td>\n",
       "      <td>2016-02-29 23:59:03</td>\n",
       "      <td>0.0</td>\n",
       "      <td>6</td>\n",
       "      <td>7</td>\n",
       "      <td>38</td>\n",
       "    </tr>\n",
       "    <tr>\n",
       "      <th>4</th>\n",
       "      <td>279590</td>\n",
       "      <td>154208</td>\n",
       "      <td>2016-02-29 23:59:03</td>\n",
       "      <td>0.0</td>\n",
       "      <td>6</td>\n",
       "      <td>5</td>\n",
       "      <td>570</td>\n",
       "    </tr>\n",
       "  </tbody>\n",
       "</table>\n",
       "</div>"
      ],
      "text/plain": [
       "   user_id  sku_id                 time  model_id  type  cate  brand\n",
       "0   280567  167208  2016-02-29 23:59:01       0.0     6     4    519\n",
       "1   270248   35533  2016-02-29 23:59:02     111.0     6     4    306\n",
       "2   203360   78694  2016-02-29 23:59:02       NaN     1     8    244\n",
       "3   252369   90402  2016-02-29 23:59:03       0.0     6     7     38\n",
       "4   279590  154208  2016-02-29 23:59:03       0.0     6     5    570"
      ]
     },
     "metadata": {},
     "output_type": "display_data"
    }
   ],
   "source": [
    "import pandas as pd\n",
    "\n",
    "df_user= pd.read_csv('JD_data/JData_User.csv')\n",
    "display(df_user.head())\n",
    "\n",
    "df_month3 = pd.read_csv('JD_data/JData_Action_201603.csv')\n",
    "display(df_month3.head())"
   ]
  },
  {
   "cell_type": "code",
   "execution_count": 11,
   "id": "dff6d928",
   "metadata": {},
   "outputs": [
    {
     "name": "stdout",
     "output_type": "stream",
     "text": [
      "<class 'pandas.core.frame.DataFrame'>\n",
      "RangeIndex: 25916378 entries, 0 to 25916377\n",
      "Data columns (total 7 columns):\n",
      " #   Column    Dtype  \n",
      "---  ------    -----  \n",
      " 0   user_id   int64  \n",
      " 1   sku_id    int64  \n",
      " 2   time      object \n",
      " 3   model_id  float64\n",
      " 4   type      int64  \n",
      " 5   cate      int64  \n",
      " 6   brand     int64  \n",
      "dtypes: float64(1), int64(5), object(1)\n",
      "memory usage: 1.4+ GB\n"
     ]
    }
   ],
   "source": [
    "df_month3.info()"
   ]
  },
  {
   "cell_type": "code",
   "execution_count": 12,
   "id": "d2c068f1",
   "metadata": {},
   "outputs": [
    {
     "data": {
      "text/plain": [
       "19554"
      ]
     },
     "execution_count": 12,
     "metadata": {},
     "output_type": "execute_result"
    }
   ],
   "source": [
    "# 垃圾回收，避免缓存的数据量过大而崩溃\n",
    "import gc\n",
    "del df_user\n",
    "del df_month3\n",
    "gc.collect()"
   ]
  },
  {
   "cell_type": "code",
   "execution_count": 14,
   "id": "4cabbaa5",
   "metadata": {},
   "outputs": [
    {
     "name": "stdout",
     "output_type": "stream",
     "text": [
      "Is action of Feb.from User file? True\n",
      "Is action of Mar.from User file? True\n",
      "Is action of Apr.from User file? True\n"
     ]
    }
   ],
   "source": [
    "# 利用pd.merge根据user_id连接数据，判断是否减少：\n",
    "def user_action_id_check():\n",
    "    df_user = pd.read_csv('JD_data/JData_User.csv')\n",
    "    df_user = df_user.loc[:,'user_id'].to_frame()\n",
    "    df_month2 = pd.read_csv('JD_data/JData_Action_201602.csv')\n",
    "    print('Is action of Feb.from User file?',len(df_month2) == len(pd.merge(df_user,df_month2)))\n",
    "    df_month3 = pd.read_csv('JD_data/JData_Action_201603.csv')\n",
    "    print('Is action of Mar.from User file?',len(df_month3) == len(pd.merge(df_user,df_month3)))\n",
    "    df_month4 = pd.read_csv('JD_data/JData_Action_201604.csv')\n",
    "    print('Is action of Apr.from User file?',len(df_month4) == len(pd.merge(df_user,df_month4)))\n",
    "    del df_user,df_month2,df_month3,df_month4\n",
    "    gc.collect()\n",
    "user_action_id_check()"
   ]
  },
  {
   "cell_type": "code",
   "execution_count": 15,
   "id": "ef045281",
   "metadata": {},
   "outputs": [],
   "source": [
    "# 检查是否有重复数据\n",
    "def deduplicate(filepath,filename):\n",
    "    df_file = pd.read_csv(filepath)\n",
    "    \n",
    "    before = df_file.shape[0] # 原文件总数据量\n",
    "    df_file.drop_duplicates(inplace=True) # 去重\n",
    "    after = df_file.shape[0] #去重后，数据量\n",
    "    n_dup = before - after\n",
    "    if n_dup != 0:\n",
    "        print('NO .of duplicate records for ' + filename + 'is:' + str(n_dup))\n",
    "    else:\n",
    "        print('NO duplicate records in ' + filename)\n",
    "    del df_file\n",
    "    gc.collect()"
   ]
  },
  {
   "cell_type": "code",
   "execution_count": 16,
   "id": "b85822a5",
   "metadata": {},
   "outputs": [
    {
     "name": "stdout",
     "output_type": "stream",
     "text": [
      "NO .of duplicate records for Feb. actionis:2756093\n",
      "NO .of duplicate records for Mar. actionis:7085037\n",
      "NO .of duplicate records for Apr. actionis:3672710\n",
      "NO duplicate records in Comment\n",
      "NO duplicate records in Product\n",
      "NO duplicate records in User\n",
      "CPU times: total: 11.1 s\n",
      "Wall time: 32.6 s\n"
     ]
    }
   ],
   "source": [
    "%%time\n",
    "deduplicate('JD_data/JData_Action_201602.csv','Feb. action')\n",
    "deduplicate('JD_data/JData_Action_201603.csv','Mar. action')\n",
    "deduplicate('JD_data/JData_Action_201604.csv','Apr. action')\n",
    "deduplicate('JD_data/JData_Comment.csv','Comment')\n",
    "deduplicate('JD_data/JData_Product.csv','Product')\n",
    "deduplicate('JD_data/JData_User.csv','User')"
   ]
  },
  {
   "cell_type": "code",
   "execution_count": 18,
   "id": "be58df66",
   "metadata": {},
   "outputs": [
    {
     "data": {
      "text/html": [
       "<div>\n",
       "<style scoped>\n",
       "    .dataframe tbody tr th:only-of-type {\n",
       "        vertical-align: middle;\n",
       "    }\n",
       "\n",
       "    .dataframe tbody tr th {\n",
       "        vertical-align: top;\n",
       "    }\n",
       "\n",
       "    .dataframe thead th {\n",
       "        text-align: right;\n",
       "    }\n",
       "</style>\n",
       "<table border=\"1\" class=\"dataframe\">\n",
       "  <thead>\n",
       "    <tr style=\"text-align: right;\">\n",
       "      <th></th>\n",
       "      <th>user_id</th>\n",
       "      <th>sku_id</th>\n",
       "      <th>time</th>\n",
       "      <th>model_id</th>\n",
       "      <th>cate</th>\n",
       "      <th>brand</th>\n",
       "    </tr>\n",
       "    <tr>\n",
       "      <th>type</th>\n",
       "      <th></th>\n",
       "      <th></th>\n",
       "      <th></th>\n",
       "      <th></th>\n",
       "      <th></th>\n",
       "      <th></th>\n",
       "    </tr>\n",
       "  </thead>\n",
       "  <tbody>\n",
       "    <tr>\n",
       "      <th>1</th>\n",
       "      <td>4659616</td>\n",
       "      <td>4659616</td>\n",
       "      <td>4659616</td>\n",
       "      <td>0</td>\n",
       "      <td>4659616</td>\n",
       "      <td>4659616</td>\n",
       "    </tr>\n",
       "    <tr>\n",
       "      <th>2</th>\n",
       "      <td>1406</td>\n",
       "      <td>1406</td>\n",
       "      <td>1406</td>\n",
       "      <td>0</td>\n",
       "      <td>1406</td>\n",
       "      <td>1406</td>\n",
       "    </tr>\n",
       "    <tr>\n",
       "      <th>3</th>\n",
       "      <td>2360</td>\n",
       "      <td>2360</td>\n",
       "      <td>2360</td>\n",
       "      <td>0</td>\n",
       "      <td>2360</td>\n",
       "      <td>2360</td>\n",
       "    </tr>\n",
       "    <tr>\n",
       "      <th>4</th>\n",
       "      <td>39</td>\n",
       "      <td>39</td>\n",
       "      <td>39</td>\n",
       "      <td>0</td>\n",
       "      <td>39</td>\n",
       "      <td>39</td>\n",
       "    </tr>\n",
       "    <tr>\n",
       "      <th>5</th>\n",
       "      <td>4475</td>\n",
       "      <td>4475</td>\n",
       "      <td>4475</td>\n",
       "      <td>0</td>\n",
       "      <td>4475</td>\n",
       "      <td>4475</td>\n",
       "    </tr>\n",
       "    <tr>\n",
       "      <th>6</th>\n",
       "      <td>2417141</td>\n",
       "      <td>2417141</td>\n",
       "      <td>2417141</td>\n",
       "      <td>2355765</td>\n",
       "      <td>2417141</td>\n",
       "      <td>2417141</td>\n",
       "    </tr>\n",
       "  </tbody>\n",
       "</table>\n",
       "</div>"
      ],
      "text/plain": [
       "      user_id   sku_id     time  model_id     cate    brand\n",
       "type                                                       \n",
       "1     4659616  4659616  4659616         0  4659616  4659616\n",
       "2        1406     1406     1406         0     1406     1406\n",
       "3        2360     2360     2360         0     2360     2360\n",
       "4          39       39       39         0       39       39\n",
       "5        4475     4475     4475         0     4475     4475\n",
       "6     2417141  2417141  2417141   2355765  2417141  2417141"
      ]
     },
     "metadata": {},
     "output_type": "display_data"
    },
    {
     "data": {
      "text/plain": [
       "50564"
      ]
     },
     "execution_count": 18,
     "metadata": {},
     "output_type": "execute_result"
    }
   ],
   "source": [
    "df_month3 = pd.read_csv('JD_data/JData_Action_201603.csv')\n",
    "IsDuplicated = df_month3.duplicated() # boolean 重复，True,不重复，False\n",
    "\n",
    "df_d = df_month3[IsDuplicated] #取重复数据\n",
    "display(df_d.groupby('type').count()) #统计计数\n",
    "\n",
    "del df_month3,df_d\n",
    "gc.collect()"
   ]
  },
  {
   "cell_type": "markdown",
   "id": "2ca98720",
   "metadata": {},
   "source": [
    "结论发现，重复数据大多数都是由于浏览(1),或者点击(6)产生\n",
    "\n",
    "重复数据是有意义的，比如用户同时购买多件商品，同时添加多个数量的商品到购物车等"
   ]
  },
  {
   "cell_type": "code",
   "execution_count": null,
   "id": "193359e2",
   "metadata": {},
   "outputs": [],
   "source": []
  }
 ],
 "metadata": {
  "kernelspec": {
   "display_name": "Python 3 (ipykernel)",
   "language": "python",
   "name": "python3"
  },
  "language_info": {
   "codemirror_mode": {
    "name": "ipython",
    "version": 3
   },
   "file_extension": ".py",
   "mimetype": "text/x-python",
   "name": "python",
   "nbconvert_exporter": "python",
   "pygments_lexer": "ipython3",
   "version": "3.10.9"
  }
 },
 "nbformat": 4,
 "nbformat_minor": 5
}
